{
 "cells": [
  {
   "cell_type": "markdown",
   "metadata": {
    "id": "-_nRC_hb5bgG"
   },
   "source": [
    "# Artificial and Computational Intelligence Assignment 2"
   ]
  },
  {
   "cell_type": "markdown",
   "metadata": {
    "id": "wd8BEEcT5bgR"
   },
   "source": [
    "## Problem solving Using Constraint Satisfaction"
   ]
  },
  {
   "cell_type": "markdown",
   "metadata": {
    "id": "JHeTf5yQ5bgU"
   },
   "source": [
    "List only the BITS (Name) of active contributors in this assignment:\n",
    "1. Joydeb Das(BITS ID: 2021fc04401)\n",
    "2. __________________\n",
    "3. ____________________\n",
    "4. ___________________\n",
    "5. ___________________"
   ]
  },
  {
   "cell_type": "markdown",
   "metadata": {
    "id": "Qdz69aJ05bgW"
   },
   "source": [
    "Things to follow\n",
    "1.\tUse appropriate data structures to represent the graph using python libraries\n",
    "2.\tProvide proper documentation\n",
    "3.\tFind the path and print it"
   ]
  },
  {
   "cell_type": "markdown",
   "metadata": {
    "id": "3iP3VTjV5bgX"
   },
   "source": [
    "## **Coding begins here for CSP**"
   ]
  },
  {
   "cell_type": "markdown",
   "metadata": {
    "id": "9YSiPXs_5bgl"
   },
   "source": [
    "### 1.Implement Python code for the design under part a, using corresponding algorithm given in the problem statement."
   ]
  },
  {
   "cell_type": "code",
   "execution_count": 6,
   "metadata": {
    "id": "7bkREyHf5bgm"
   },
   "outputs": [
    {
     "name": "stdout",
     "output_type": "stream",
     "text": [
      "{'A': ['B', 'C'], 'B': ['A', 'C'], 'C': ['A', 'B', 'D'], 'D': ['C'], 'E': ['D']}\n",
      "A SevenAMS_lot\n",
      "B EightAM_Slot\n",
      "C SixAM_Slot\n",
      "D SevenAMS_lot\n",
      "E SixAM_Slot\n"
     ]
    }
   ],
   "source": [
    "#Code Block : Function for algorithm implementation\n",
    "\n",
    "# choosing first node with degree heruistics\n",
    "# applying MRV with backtracking\n",
    "\n",
    "from enum import Enum\n",
    "import pdb\n",
    "\n",
    "class Domain(Enum):\n",
    "    SixAM_Slot = 1\n",
    "    SevenAMS_lot = 2\n",
    "    EightAM_Slot = 3\n",
    "    NineAM_Slot = 4\n",
    "\n",
    "class Graph:\n",
    "    def __init__(self, totalNodes, adjacencyList, domain):\n",
    "        self.totalNodes = totalNodes\n",
    "        self.adjacencyList = adjacencyList\n",
    "        self.domain = domain\n",
    "        self.nodeSequence = [\"\"]*totalNodes\n",
    "\n",
    "    def isSafe(self, node, c):\n",
    "        for i in range(len(self.adjacencyList[node])):\n",
    "            if(self.domain[self.adjacencyList[node][i]] == c):\n",
    "                return False\n",
    "        return True\n",
    "\n",
    "\n",
    "    def graphDomainUtil(self, node, domainLimit):\n",
    "        if node == '':\n",
    "            # check and domain any undomained node\n",
    "            for key, value in self.domain.items():\n",
    "                if value == 0:\n",
    "                    self.graphDomainUtil(key, domainLimit)\n",
    "            return True\n",
    "\n",
    "        # pdb.set_trace()\n",
    "        for c in range(1, domainLimit+1):\n",
    "            if(self.isSafe(node, c) == True):\n",
    "                self.domain[node] = c\n",
    "                nextNode = self.getNodeWithMRV(node, domainLimit)\n",
    "                if(self.graphDomainUtil(nextNode, domainLimit) == True):\n",
    "                    return True\n",
    "                else:\n",
    "                    self.domain[node] = 0\n",
    "\n",
    "        return False\n",
    "\n",
    "\n",
    "    def graphDomaining(self, domainLimit):\n",
    "        # pdb.set_trace()\n",
    "        startNode = self.pickNode('')\n",
    "        if(self.graphDomainUtil(startNode, domainLimit) == True):\n",
    "            return True\n",
    "        else:\n",
    "            print(\"Solution does not exists\")\n",
    "            return False\n",
    "\n",
    "\n",
    "    # pick node using MRV\n",
    "    def pickNode(self, initialNode):\n",
    "        maxCount = 0\n",
    "        selectedNode = ''\n",
    "        # the very first node\n",
    "        if (initialNode == ''):\n",
    "            for node, neighbourList in self.adjacencyList.items():\n",
    "                if (len(neighbourList) > maxCount and self.domain[node] == 0):\n",
    "                    maxCount = len(neighbourList)\n",
    "                    selectedNode = node\n",
    "        # the other nodes\n",
    "        else:\n",
    "            for i in range(len(self.adjacencyList[initialNode])):\n",
    "                childNode = self.adjacencyList[initialNode][i]\n",
    "                if (self.domain[childNode] == 0 and len(self.adjacencyList[childNode]) > maxCount):\n",
    "                    maxCount = len(self.adjacencyList[childNode])\n",
    "                    selectedNode = childNode\n",
    "\n",
    "        return selectedNode\n",
    "\n",
    "\n",
    "    def getNodeWithMRV(self, parentNode, domainLimit):\n",
    "        minCount = 0\n",
    "        selectedNode = ''\n",
    "\n",
    "        for i in range(len(self.adjacencyList[parentNode])):\n",
    "            childNode = self.adjacencyList[parentNode][i]\n",
    "            countDomain = 0\n",
    "            for c in range(1, domainLimit+1):\n",
    "                if(self.isSafe(childNode, c) == True):\n",
    "                    countDomain += 1\n",
    "            if (countDomain < minCount):\n",
    "                selectedNode = childNode\n",
    "\n",
    "        return selectedNode\n",
    "\n",
    "# driver code\n",
    "def main():\n",
    "    adjacencyList = {\n",
    "        'A': ['B', 'C'],\n",
    "        'B': ['A', 'C'],\n",
    "        'C': ['A', 'B', 'D'],\n",
    "        'D': ['C'],\n",
    "        'E': ['D']\n",
    "    };\n",
    "\n",
    "    domain = {\n",
    "        'A': 0,\n",
    "        'B': 0,\n",
    "        'C': 0,\n",
    "        'D': 0,\n",
    "        'E': 0      \n",
    "    };\n",
    "\n",
    "    print(adjacencyList)\n",
    "    g = Graph(5, adjacencyList, domain)\n",
    "    domainLimit = 4\n",
    "    g.graphDomaining(domainLimit)\n",
    "\n",
    "    for node, domain in g.domain.items():\n",
    "        print(node, Domain(domain).name)\n",
    "main()\n",
    " \n"
   ]
  },
  {
   "cell_type": "markdown",
   "metadata": {
    "id": "Cl9PFeGD5bgn"
   },
   "source": [
    "### DYNAMIC INPUT"
   ]
  },
  {
   "cell_type": "markdown",
   "metadata": {
    "id": "4-97Y9Of5bgo"
   },
   "source": [
    "IMPORTANT : Dynamic Input must be got in this section. This is applicable for all the relevent problems as mentioned in the question. "
   ]
  },
  {
   "cell_type": "code",
   "execution_count": null,
   "metadata": {
    "id": "73KGBQhS5bgo"
   },
   "outputs": [],
   "source": [
    "#Code Block : Function & call to get inputs (start/end state)"
   ]
  },
  {
   "cell_type": "markdown",
   "metadata": {
    "id": "cknvyE445bgo"
   },
   "source": [
    "### 2.\tHeuristics function 1 as representented in problem statement  \n",
    "\n",
    "###     Heuristics function 2 as representented in problem statement\n"
   ]
  },
  {
   "cell_type": "code",
   "execution_count": null,
   "metadata": {
    "id": "-4blTWwJ5bgp"
   },
   "outputs": [],
   "source": [
    "#Invoke Heuristic function 1 \n"
   ]
  },
  {
   "cell_type": "code",
   "execution_count": null,
   "metadata": {
    "id": "_N4RPaHl5bgp"
   },
   "outputs": [],
   "source": [
    "#Invoke Heuristic function 2"
   ]
  },
  {
   "cell_type": "markdown",
   "metadata": {
    "id": "ETX11idc5bgq"
   },
   "source": [
    "### 3.Print the final result as per the given problem statement"
   ]
  },
  {
   "cell_type": "code",
   "execution_count": null,
   "metadata": {
    "id": "mZJMs-hQ5bgq"
   },
   "outputs": [],
   "source": [
    "#Code Block : Print the Time & Space complexity of algorithm 1 "
   ]
  },
  {
   "cell_type": "code",
   "execution_count": null,
   "metadata": {
    "id": "SvFOgY8d5bgr"
   },
   "outputs": [],
   "source": [
    "#Code Block : Print the Time & Space complexity of algorithm 2"
   ]
  }
 ],
 "metadata": {
  "colab": {
   "name": "ACI-Assignment-1-SolutionTemplate (1).ipynb",
   "provenance": []
  },
  "kernelspec": {
   "display_name": "Python 3",
   "language": "python",
   "name": "python3"
  },
  "language_info": {
   "codemirror_mode": {
    "name": "ipython",
    "version": 3
   },
   "file_extension": ".py",
   "mimetype": "text/x-python",
   "name": "python",
   "nbconvert_exporter": "python",
   "pygments_lexer": "ipython3",
   "version": "3.8.8"
  }
 },
 "nbformat": 4,
 "nbformat_minor": 1
}
