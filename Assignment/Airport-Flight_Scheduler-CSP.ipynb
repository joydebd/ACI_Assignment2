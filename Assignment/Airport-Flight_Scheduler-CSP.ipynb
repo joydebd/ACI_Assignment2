{
 "cells": [
  {
   "cell_type": "markdown",
   "metadata": {
    "id": "-_nRC_hb5bgG"
   },
   "source": [
    "# Artificial and Computational Intelligence Assignment 2"
   ]
  },
  {
   "cell_type": "markdown",
   "metadata": {
    "id": "wd8BEEcT5bgR"
   },
   "source": [
    "## Problem solving Using Constraint Satisfaction"
   ]
  },
  {
   "cell_type": "markdown",
   "metadata": {
    "id": "Qdz69aJ05bgW"
   },
   "source": [
    "Things to follow\n",
    "1.\tUse appropriate data structures to represent the graph using python libraries\n",
    "2.\tProvide proper documentation\n",
    "3.\tFind the path and print it"
   ]
  },
  {
   "cell_type": "markdown",
   "metadata": {
    "id": "3iP3VTjV5bgX"
   },
   "source": [
    "## **Coding begins here for CSP**"
   ]
  },
  {
   "cell_type": "markdown",
   "metadata": {
    "id": "9YSiPXs_5bgl"
   },
   "source": [
    "### 1.Implement Python code for the design under part a, using corresponding algorithm given in the problem statement."
   ]
  },
  {
   "cell_type": "code",
   "execution_count": 385,
   "metadata": {
    "id": "7bkREyHf5bgm"
   },
   "outputs": [],
   "source": [
    "#Code Block : Function for algorithm implementation\n",
    "# Base class for all constraints\n",
    "from typing import Generic, TypeVar, Dict, List, Optional\n",
    "from abc import ABC, abstractmethod\n",
    "\n",
    "V = TypeVar('V') # variable type\n",
    "D = TypeVar('D') # domain type\n",
    "\n",
    "class Constraint(Generic[V, D], ABC):\n",
    "    # The variables that the constraint is between\n",
    "    def __init__(self, variables: List[V]):\n",
    "        self.variables = variables\n",
    "\n",
    "\n",
    "    # Must be overridden by subclasses\n",
    "    @abstractmethod\n",
    "    def satisfied(self, assignment: Dict[V, D]):\n",
    "        ...\n",
    "# A CSP(constraint satisfaction problem) consists of variables of type V\n",
    "# that have ranges of values known as domains of type D and constraints\n",
    "# that determine whether a particular variable's domain selection is valid\n",
    "class CSPBackTracking(Generic[V, D]):\n",
    "    def __init__(self, variables: List[V], domains: Dict[V, List[D]]):\n",
    "        self.variables: List[V] = variables # variables to be constrained\n",
    "        self.domains: Dict[V, List[D]] = domains # domain of each variable\n",
    "        self.constraints: Dict[V, List[Constraint[V, D]]] = {}\n",
    "        self.curr_domains=None\n",
    "        self.neighbors = self.variables\n",
    "        for variable in self.variables:\n",
    "            self.constraints[variable] = []\n",
    "            if variable not in self.domains:\n",
    "                raise LookupError(\"Every variable should have a domainassigned to it.\")\n",
    "\n",
    "    def add_constraint(self, constraint: Constraint[V, D]):\n",
    "        for variable in constraint.variables:\n",
    "            if variable not in self.variables:\n",
    "                raise LookupError(\"Variable in constraint not in CSP\")\n",
    "            else:\n",
    "                self.constraints[variable].append(constraint)\n",
    "\n",
    "\n",
    "    # Check if the value assignment is consistent by checking all constraints\n",
    "    # for the given variable against it\n",
    "    def consistent(self, variable: V, assignment: Dict[V, D]):\n",
    "        for constraint in self.constraints[variable]:\n",
    "            if not constraint.satisfied(assignment):\n",
    "                return False\n",
    "        return True\n",
    "\n",
    "    def backtracking_search(self, assignment: Dict[V, D] = {}):\n",
    "        # assignment is complete if every variable is assigned (our base case)\n",
    "        if len(assignment) == len(self.variables):\n",
    "            return assignment\n",
    "\n",
    "        # get all variables in the CSP but not in the assignment\n",
    "        unassigned: List[V] = [v for v in self.variables if v not in assignment]\n",
    "        len_of_domains = len(self.domains)\n",
    "        # get the every possible domain value of the first unassigned variable\n",
    "        first: V = unassigned[0]\n",
    "        for value in self.domains[first]:\n",
    "            local_assignment = assignment.copy()\n",
    "            if(first == len_of_domains):\n",
    "                local_assignment[first] = self.domains[first][len(self.domains[first])-1]\n",
    "            else:\n",
    "                local_assignment[first] = value\n",
    "            # if we're still consistent, we recurse (continue)\n",
    "            if self.consistent(first, local_assignment):\n",
    "                result: Optional[Dict[V, D]] = self.backtracking_search(local_assignment)\n",
    "                # if we didn't find the result, we will end up backtracking\n",
    "                if result is not None:\n",
    "                    return result\n",
    "        return None \n",
    "    \n",
    "    \n",
    "class ScheduleConstraint(Constraint[int, int]):\n",
    "    def __init__(self, columns: List[int]):\n",
    "        super().__init__(columns)\n",
    "        self.columns: List[int] = columns\n",
    "\n",
    "    def satisfied(self, assignment: Dict[int, int]):\n",
    "       # q1c = column 1 , q1r = row 1 \n",
    "        for q1c, q1r in assignment.items(): \n",
    "        # q2c = column 2 \n",
    "            for q2c in range(q1c+1, len(self.columns)): \n",
    "                if q2c in assignment:\n",
    "                    q2r: int = assignment[q2c] \n",
    "                    if q1r == q2r: \n",
    "                        return False\n",
    "                    \n",
    "        return True # no conflict\n"
   ]
  },
  {
   "cell_type": "code",
   "execution_count": 386,
   "metadata": {},
   "outputs": [],
   "source": [
    "### 2.\tHeuristics function 1 as representented in problem statement \n",
    "# Base class for all constraints\n",
    "from typing import Generic, TypeVar, Dict, List, Optional\n",
    "from abc import ABC, abstractmethod\n",
    "\n",
    "V = TypeVar('V') # variable type\n",
    "D = TypeVar('D') # domain type\n",
    "\n",
    "class Constraint(Generic[V, D], ABC):\n",
    "    # The variables that the constraint is between\n",
    "    def __init__(self, variables: List[V]):\n",
    "        self.variables = variables\n",
    "\n",
    "\n",
    "    # Must be overridden by subclasses\n",
    "    @abstractmethod\n",
    "    def satisfied(self, assignment: Dict[V, D]):\n",
    "        ...\n",
    "class CSPHeuristicsSearch(Generic[V, D]):\n",
    "    def __init__(self, variables: List[V], domains: Dict[V, List[D]]):\n",
    "        self.variables: List[V] = variables # variables to be constrained\n",
    "        self.domains: Dict[V, List[D]] = domains # domain of each variable\n",
    "        self.constraints: Dict[V, List[Constraint[V, D]]] = {}\n",
    "        self.curr_domains=None\n",
    "        self.neighbors = self.variables\n",
    "        for variable in self.variables:\n",
    "            self.constraints[variable] = []\n",
    "            if variable not in self.domains:\n",
    "                raise LookupError(\"Every variable should have a domainassigned to it.\")\n",
    "\n",
    "    def add_constraint(self, constraint: Constraint[V, D]):\n",
    "        for variable in constraint.variables:\n",
    "            if variable not in self.variables:\n",
    "                raise LookupError(\"Variable in constraint not in CSP\")\n",
    "            else:\n",
    "                self.constraints[variable].append(constraint)\n",
    "\n",
    "\n",
    "    # Check if the value assignment is consistent by checking all constraints\n",
    "    # for the given variable against it\n",
    "    def consistent(self, variable: V, assignment: Dict[V, D]):\n",
    "        for constraint in self.constraints[variable]:\n",
    "            if not constraint.satisfied(assignment):\n",
    "                return False\n",
    "        return True\n",
    "    \n",
    "    def recursive_backtracking(self,assignment: Dict[V, D] = {}):\n",
    "        if len(assignment) == len(self.variables):\n",
    "            return assignment\n",
    "        var = self.mrv(assignment, csp)\n",
    "        for value in self.mcv(var, assignment, csp):\n",
    "            if 1 == self.nconflicts(var, value, assignment):\n",
    "                self.assign(var, value, assignment)\n",
    "                removals = self.start(var, value)\n",
    "                result = self.recursive_backtracking(assignment)\n",
    "                if result is not None:\n",
    "                    return result\n",
    "                self.undo_val(removals)\n",
    "        self.unassign(var, assignment)\n",
    "        return None\n",
    "\n",
    "# Most Remaining Values (MRV) Heuristic:\n",
    "    def mrv(self, assignment, csp):\n",
    "\n",
    "        min= self.select_unassigned_variable( assignment, csp)\n",
    "        for v in self.variables:\n",
    "            if v not in assignment:\n",
    "                if self.curr_domains:\n",
    "                    r= len(self.curr_domains[v])\n",
    "                    n= len(self.curr_domains[min])\n",
    "                else:\n",
    "                    count=0\n",
    "                    for val in self.domains[v]:\n",
    "                        if self.nconflicts(v, val, assignment) == 0:\n",
    "                            count=count+1\n",
    "                    n=count\n",
    "                    count = 0\n",
    "                    for val in self.domains[min]:\n",
    "                        if self.nconflicts(min, val, assignment) == 0:\n",
    "                            count = count + 1\n",
    "                    r = count\n",
    "                if r < n:\n",
    "                    min = v\n",
    "        return min\n",
    "    \n",
    "    def heuristics_search(self,assignment: Dict[V, D] = {}):\n",
    "        self.domains = dict((v, list(reversed(self.domains[v])))\n",
    "                                     for v in self.variables)\n",
    "        return self.recursive_backtracking(assignment)\n",
    "        \n",
    "    \n",
    "### Heuristics function 2 as representented in problem statement\n",
    "#Choose the variable that imposes the most constraints on the remaining variables\n",
    "\n",
    "    def mcv(self,var, assignment, csp):\n",
    "\n",
    "        return sorted(self.left_domain(var),\n",
    "                      key=lambda val: self.consistent(var, assignment))\n",
    "\n",
    "    def left_domain(self, var):\n",
    "        return (self.curr_domains or self.domains)[var]\n",
    "    \n",
    "    def select_unassigned_variable(self,assignment, csp):\n",
    "        for v in self.variables:\n",
    "            if v not in assignment:\n",
    "                return v\n",
    "            \n",
    "    def nconflicts(self, var, val, assignment):\n",
    "        if self.consistent(var, assignment):\n",
    "            return 1\n",
    "        return 0\n",
    "    \n",
    "    def support_pruning(self):\n",
    "        if self.curr_domains is None:\n",
    "            self.curr_domains = dict((v, list(self.domains[v]))\n",
    "                                     for v in self.variables)\n",
    "\n",
    "    def start(self, var, value):\n",
    "        self.support_pruning()\n",
    "        removals = [(var, d) for d in self.curr_domains[var] if d != value]\n",
    "        self.curr_domains[var] = [value]\n",
    "        return removals\n",
    "    \n",
    "    def undo_val(self, removals):\n",
    "        for B, b in removals:\n",
    "            self.curr_domains[B].append(b)\n",
    "    \n",
    "    def assign(self, var, val, assignment):\n",
    "        assignment[var] = val\n",
    "        \n",
    "    def unassign(self, var, assignment):\n",
    "        if var in assignment:\n",
    "            del assignment[var]\n"
   ]
  },
  {
   "cell_type": "markdown",
   "metadata": {
    "id": "Cl9PFeGD5bgn"
   },
   "source": [
    "### DYNAMIC INPUT"
   ]
  },
  {
   "cell_type": "code",
   "execution_count": 387,
   "metadata": {
    "id": "4-97Y9Of5bgo"
   },
   "outputs": [],
   "source": [
    "#IMPORTANT : Dynamic Input must be got in this section. This is applicable for all the relevent problems as mentioned in the question. \n",
    "import ast\n",
    "#Input is available as part of CSV files i.e.\n",
    "while True:\n",
    "    try:\n",
    "        inputFile = \"Input_Entry.txt\"\n",
    "        # Declare an empty array\n",
    "        arr = []\n",
    "        lines = open(inputFile, 'r').readlines()[1:]\n",
    "        arrayIndex = 0\n",
    "        # Throw error if input file does not have any entries\n",
    "        if len(lines) ==0:\n",
    "            raise ValueError (\"Input file missing entries\")\n",
    "        # Remove empty lines\n",
    "        lines = filter(lambda x: x.strip(), lines)\n",
    "        for line in lines:\n",
    "            values = [str(e) for e in line.rstrip(\"\\n\").split(',')]\n",
    "            arr.insert(arrayIndex,values)\n",
    "            arrayIndex = arrayIndex + 1\n",
    "    except FileNotFoundError:\n",
    "        print(\"Wrong file or file path, please try again!\")\n",
    "    else:\n",
    "        break\n",
    "            \n"
   ]
  },
  {
   "cell_type": "code",
   "execution_count": 388,
   "metadata": {
    "id": "73KGBQhS5bgo"
   },
   "outputs": [
    {
     "name": "stdout",
     "output_type": "stream",
     "text": [
      "Backtracking Result: {1: 'SixAM_Slot', 2: 'SevenAM_Slot', 3: 'EightAM_Slot', 4: 'NineAM_Slot', 5: 'NineAM_Slot'}\n",
      "Heuristics including MCV and MRV: {1: 'SixAM_Slot', 2: 'SevenAM_Slot', 3: 'EightAM_Slot', 4: 'NineAM_Slot', 5: 'NineAM_Slot'}\n"
     ]
    }
   ],
   "source": [
    "#Code Block : Function & call to get inputs (start/end state)\n",
    "# Input section\n",
    "if __name__ == \"__main__\":\n",
    "    number_of_flights = len(arr[0])\n",
    "    flight_of_serial_numbers = list(range(1, number_of_flights+1))\n",
    "    flight_dictionary[int,str] = dict(zip(flight_of_serial_numbers, arr[0]))\n",
    "    rows: List[int] = list(range(1, number_of_flights+1))\n",
    "    columns: Dict[int, List[str]] = {}\n",
    "    for column in rows:\n",
    "        columns[column] = arr[1]\n",
    "    \n",
    "    if(len(rows) > len(columns[1]) and (len(rows) - len(columns[1]) !=1)):\n",
    "        print(\"No solution found! Possibly insufficient available slots. Please add more slots and check\")\n",
    "    csp: CSPBackTracking[int, int] = CSPBackTracking(rows,columns)\n",
    "    csp.add_constraint(ScheduleConstraint(rows))\n",
    "    solution: Optional[Dict[int, str]] = csp.backtracking_search()\n",
    "    print(\"Backtracking Result:\",solution)\n",
    "    \n",
    "    # Heuristics search including MCV and MRV\n",
    "    csp: CSPHeuristicsSearch[int, int] = CSPHeuristicsSearch(rows,columns)\n",
    "    csp.add_constraint(ScheduleConstraint(rows))\n",
    "    solution: Optional[Dict[int, str]] = csp.heuristics_search()\n",
    "    if solution is None:\n",
    "        print(\"No solution found!\")\n",
    "    else:\n",
    "        print(\"Heuristics including MCV and MRV:\",solution)"
   ]
  },
  {
   "cell_type": "code",
   "execution_count": null,
   "metadata": {
    "id": "cknvyE445bgo"
   },
   "outputs": [],
   "source": []
  },
  {
   "cell_type": "markdown",
   "metadata": {
    "id": "ETX11idc5bgq"
   },
   "source": [
    "### 3.Print the final result as per the given problem statement\n",
    "\n",
    "### DFS based Backtracking Result for the given problem:\n",
    "{'J-9W665: 6:00 AM IST', 'J-9W601 : 7:00 AM IST', 'J-9W4331: 8:00 AM IST', 'J-9W4569: 9:00 AM IST', 'J-9W377: 9:00 AM IST'}\n",
    "### MCV and MRV Heuristic Result for the given problem:\n",
    "{'J-9W665: 6:00 AM IST', 'J-9W601 : 7:00 AM IST', 'J-9W4331: 8:00 AM IST', 'J-9W4569: 9:00 AM IST', 'J-9W377: 9:00 AM IST'}\n"
   ]
  },
  {
   "cell_type": "markdown",
   "metadata": {
    "id": "mZJMs-hQ5bgq"
   },
   "source": [
    "### Code Block : Print the Time & Space complexity of algorithm 1 \n",
    "\n",
    "A complete CSP depth search based back tracking search algorithm that returns a solution if one exists or\n",
    "report insolubility otherwise have exponential time-complexity. In regards to the complexity of backtracking algorithms, \n",
    "we follow two agreements:\n",
    "    \n",
    "– We express the time-complexity (upper bound) by O∗ notation which suppresses the polynomial factor. \n",
    "\n",
    "– We express the time complexity of a CSP search algorithm by the number of partial solutions generated by \n",
    "the algorithm where successor states are generated by considering assignments to a single variable. \n",
    "\n",
    "With n variables and maximum domain size d is widely considered to be O∗(d^n). Therefore, it is O*(4^5) = O(1024)\n",
    "\n",
    "To store the domains of the problem requires O(na) space. The algorithm does not require more temporary memory \n",
    "than O(n) to store the compound label. Therefore, the space complexity of Chronological_Backtracking is O(nd) = O(20)."
   ]
  },
  {
   "cell_type": "markdown",
   "metadata": {
    "id": "SvFOgY8d5bgr"
   },
   "source": [
    "### Code Block : Print the Time & Space complexity of algorithm 2\n",
    "\n",
    "we found that a combination of heuristic methods of constraint solving can reduce the time complexity. \n",
    "In particular, we prove that the MCV-MRV algorithm combined with the fail-first variable ordering heuristic (FF) \n",
    "achieves time complexity of O *((d – 1)n ), where n and d are the number of variables and the maximal domain size \n",
    "of the given CSP, respectively. Therefore, it is O*(3*5) = O(15) which is also space complexity.\n",
    "\n",
    "Furthermore, we found that the combination is essential because neither MCV-MRV alone nor MRV with FF achieve \n",
    "the above complexity. "
   ]
  },
  {
   "cell_type": "code",
   "execution_count": null,
   "metadata": {},
   "outputs": [],
   "source": []
  }
 ],
 "metadata": {
  "colab": {
   "name": "ACI-Assignment-1-SolutionTemplate (1).ipynb",
   "provenance": []
  },
  "kernelspec": {
   "display_name": "Python 3",
   "language": "python",
   "name": "python3"
  },
  "language_info": {
   "codemirror_mode": {
    "name": "ipython",
    "version": 3
   },
   "file_extension": ".py",
   "mimetype": "text/x-python",
   "name": "python",
   "nbconvert_exporter": "python",
   "pygments_lexer": "ipython3",
   "version": "3.8.8"
  }
 },
 "nbformat": 4,
 "nbformat_minor": 1
}
